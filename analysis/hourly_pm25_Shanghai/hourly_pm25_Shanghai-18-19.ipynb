{
 "cells": [
  {
   "cell_type": "markdown",
   "metadata": {},
   "source": [
    "## Packages"
   ]
  },
  {
   "cell_type": "code",
   "execution_count": 68,
   "metadata": {},
   "outputs": [],
   "source": [
    "# Import Packages\n",
    "import pandas as pd\n",
    "import numpy as np\n",
    "import matplotlib.pyplot as plt\n",
    "%matplotlib inline\n",
    "import seaborn as sns"
   ]
  },
  {
   "cell_type": "markdown",
   "metadata": {},
   "source": [
    "## Load Data"
   ]
  },
  {
   "cell_type": "code",
   "execution_count": 69,
   "metadata": {},
   "outputs": [],
   "source": [
    "# Load Raw Data\n",
    "raw_data = pd.read_csv('Shanghai_2018-4_2019-4.csv')"
   ]
  },
  {
   "cell_type": "markdown",
   "metadata": {},
   "source": [
    "## Data Preprocessing I "
   ]
  },
  {
   "cell_type": "markdown",
   "metadata": {},
   "source": [
    "#### Data Peek"
   ]
  },
  {
   "cell_type": "code",
   "execution_count": 70,
   "metadata": {
    "scrolled": true
   },
   "outputs": [
    {
     "data": {
      "text/html": [
       "<div>\n",
       "<style scoped>\n",
       "    .dataframe tbody tr th:only-of-type {\n",
       "        vertical-align: middle;\n",
       "    }\n",
       "\n",
       "    .dataframe tbody tr th {\n",
       "        vertical-align: top;\n",
       "    }\n",
       "\n",
       "    .dataframe thead th {\n",
       "        text-align: right;\n",
       "    }\n",
       "</style>\n",
       "<table border=\"1\" class=\"dataframe\">\n",
       "  <thead>\n",
       "    <tr style=\"text-align: right;\">\n",
       "      <th></th>\n",
       "      <th>date</th>\n",
       "      <th>parameter</th>\n",
       "      <th>location</th>\n",
       "      <th>value</th>\n",
       "      <th>unit</th>\n",
       "      <th>city</th>\n",
       "      <th>attribution</th>\n",
       "      <th>averagingperiod</th>\n",
       "      <th>coordinates</th>\n",
       "      <th>country</th>\n",
       "      <th>sourcename</th>\n",
       "      <th>sourcetype</th>\n",
       "      <th>mobile</th>\n",
       "    </tr>\n",
       "  </thead>\n",
       "  <tbody>\n",
       "    <tr>\n",
       "      <th>0</th>\n",
       "      <td>{utc=2018-04-20T11:00:00.000Z, local=2018-04-2...</td>\n",
       "      <td>pm25</td>\n",
       "      <td>Shanghai</td>\n",
       "      <td>28.0</td>\n",
       "      <td>µg/m³</td>\n",
       "      <td>Shanghai</td>\n",
       "      <td>[{name=StateAir.net, url=http://www.stateair.n...</td>\n",
       "      <td>{unit=hours, value=1.0}</td>\n",
       "      <td>{latitude=31.21, longitude=121.44}</td>\n",
       "      <td>CN</td>\n",
       "      <td>Shanghai</td>\n",
       "      <td>government</td>\n",
       "      <td>False</td>\n",
       "    </tr>\n",
       "    <tr>\n",
       "      <th>1</th>\n",
       "      <td>{utc=2018-04-20T01:00:00.000Z, local=2018-04-2...</td>\n",
       "      <td>pm25</td>\n",
       "      <td>Shanghai</td>\n",
       "      <td>29.0</td>\n",
       "      <td>µg/m³</td>\n",
       "      <td>Shanghai</td>\n",
       "      <td>[{name=StateAir.net, url=http://www.stateair.n...</td>\n",
       "      <td>{unit=hours, value=1.0}</td>\n",
       "      <td>{latitude=31.21, longitude=121.44}</td>\n",
       "      <td>CN</td>\n",
       "      <td>Shanghai</td>\n",
       "      <td>government</td>\n",
       "      <td>False</td>\n",
       "    </tr>\n",
       "    <tr>\n",
       "      <th>2</th>\n",
       "      <td>{utc=2018-04-20T07:00:00.000Z, local=2018-04-2...</td>\n",
       "      <td>pm25</td>\n",
       "      <td>Shanghai</td>\n",
       "      <td>31.0</td>\n",
       "      <td>µg/m³</td>\n",
       "      <td>Shanghai</td>\n",
       "      <td>[{name=StateAir.net, url=http://www.stateair.n...</td>\n",
       "      <td>{unit=hours, value=1.0}</td>\n",
       "      <td>{latitude=31.21, longitude=121.44}</td>\n",
       "      <td>CN</td>\n",
       "      <td>Shanghai</td>\n",
       "      <td>government</td>\n",
       "      <td>False</td>\n",
       "    </tr>\n",
       "    <tr>\n",
       "      <th>3</th>\n",
       "      <td>{utc=2018-04-20T06:00:00.000Z, local=2018-04-2...</td>\n",
       "      <td>pm25</td>\n",
       "      <td>Shanghai</td>\n",
       "      <td>25.0</td>\n",
       "      <td>µg/m³</td>\n",
       "      <td>Shanghai</td>\n",
       "      <td>[{name=StateAir.net, url=http://www.stateair.n...</td>\n",
       "      <td>{unit=hours, value=1.0}</td>\n",
       "      <td>{latitude=31.21, longitude=121.44}</td>\n",
       "      <td>CN</td>\n",
       "      <td>Shanghai</td>\n",
       "      <td>government</td>\n",
       "      <td>False</td>\n",
       "    </tr>\n",
       "    <tr>\n",
       "      <th>4</th>\n",
       "      <td>{utc=2018-04-20T15:00:00.000Z, local=2018-04-2...</td>\n",
       "      <td>pm25</td>\n",
       "      <td>Shanghai</td>\n",
       "      <td>24.0</td>\n",
       "      <td>µg/m³</td>\n",
       "      <td>Shanghai</td>\n",
       "      <td>[{name=StateAir.net, url=http://www.stateair.n...</td>\n",
       "      <td>{unit=hours, value=1.0}</td>\n",
       "      <td>{latitude=31.21, longitude=121.44}</td>\n",
       "      <td>CN</td>\n",
       "      <td>Shanghai</td>\n",
       "      <td>government</td>\n",
       "      <td>False</td>\n",
       "    </tr>\n",
       "  </tbody>\n",
       "</table>\n",
       "</div>"
      ],
      "text/plain": [
       "                                                date parameter  location  \\\n",
       "0  {utc=2018-04-20T11:00:00.000Z, local=2018-04-2...      pm25  Shanghai   \n",
       "1  {utc=2018-04-20T01:00:00.000Z, local=2018-04-2...      pm25  Shanghai   \n",
       "2  {utc=2018-04-20T07:00:00.000Z, local=2018-04-2...      pm25  Shanghai   \n",
       "3  {utc=2018-04-20T06:00:00.000Z, local=2018-04-2...      pm25  Shanghai   \n",
       "4  {utc=2018-04-20T15:00:00.000Z, local=2018-04-2...      pm25  Shanghai   \n",
       "\n",
       "   value   unit      city                                        attribution  \\\n",
       "0   28.0  µg/m³  Shanghai  [{name=StateAir.net, url=http://www.stateair.n...   \n",
       "1   29.0  µg/m³  Shanghai  [{name=StateAir.net, url=http://www.stateair.n...   \n",
       "2   31.0  µg/m³  Shanghai  [{name=StateAir.net, url=http://www.stateair.n...   \n",
       "3   25.0  µg/m³  Shanghai  [{name=StateAir.net, url=http://www.stateair.n...   \n",
       "4   24.0  µg/m³  Shanghai  [{name=StateAir.net, url=http://www.stateair.n...   \n",
       "\n",
       "           averagingperiod                         coordinates country  \\\n",
       "0  {unit=hours, value=1.0}  {latitude=31.21, longitude=121.44}      CN   \n",
       "1  {unit=hours, value=1.0}  {latitude=31.21, longitude=121.44}      CN   \n",
       "2  {unit=hours, value=1.0}  {latitude=31.21, longitude=121.44}      CN   \n",
       "3  {unit=hours, value=1.0}  {latitude=31.21, longitude=121.44}      CN   \n",
       "4  {unit=hours, value=1.0}  {latitude=31.21, longitude=121.44}      CN   \n",
       "\n",
       "  sourcename  sourcetype  mobile  \n",
       "0   Shanghai  government   False  \n",
       "1   Shanghai  government   False  \n",
       "2   Shanghai  government   False  \n",
       "3   Shanghai  government   False  \n",
       "4   Shanghai  government   False  "
      ]
     },
     "execution_count": 70,
     "metadata": {},
     "output_type": "execute_result"
    }
   ],
   "source": [
    "raw_data.head()"
   ]
  },
  {
   "cell_type": "code",
   "execution_count": 71,
   "metadata": {},
   "outputs": [
    {
     "name": "stdout",
     "output_type": "stream",
     "text": [
      "<class 'pandas.core.frame.DataFrame'>\n",
      "RangeIndex: 8072 entries, 0 to 8071\n",
      "Data columns (total 13 columns):\n",
      "date               8072 non-null object\n",
      "parameter          8072 non-null object\n",
      "location           8072 non-null object\n",
      "value              8072 non-null float64\n",
      "unit               8072 non-null object\n",
      "city               8072 non-null object\n",
      "attribution        8072 non-null object\n",
      "averagingperiod    8072 non-null object\n",
      "coordinates        8072 non-null object\n",
      "country            8072 non-null object\n",
      "sourcename         8072 non-null object\n",
      "sourcetype         8072 non-null object\n",
      "mobile             8072 non-null bool\n",
      "dtypes: bool(1), float64(1), object(11)\n",
      "memory usage: 764.7+ KB\n"
     ]
    }
   ],
   "source": [
    "raw_data.info()"
   ]
  },
  {
   "cell_type": "markdown",
   "metadata": {},
   "source": [
    "### What are the data issues to be treated?"
   ]
  },
  {
   "cell_type": "markdown",
   "metadata": {},
   "source": [
    "#### Duplicates? "
   ]
  },
  {
   "cell_type": "code",
   "execution_count": 72,
   "metadata": {},
   "outputs": [
    {
     "data": {
      "text/plain": [
       "False"
      ]
     },
     "execution_count": 72,
     "metadata": {},
     "output_type": "execute_result"
    }
   ],
   "source": [
    "raw_data.duplicated().any()"
   ]
  },
  {
   "cell_type": "markdown",
   "metadata": {},
   "source": [
    "#### Missing Value"
   ]
  },
  {
   "cell_type": "code",
   "execution_count": 73,
   "metadata": {},
   "outputs": [
    {
     "data": {
      "text/plain": [
       "0"
      ]
     },
     "execution_count": 73,
     "metadata": {},
     "output_type": "execute_result"
    }
   ],
   "source": [
    "raw_data.isnull().any().sum()"
   ]
  },
  {
   "cell_type": "markdown",
   "metadata": {},
   "source": [
    "### DataPreprocessing, Data Extraction (col-by-col)"
   ]
  },
  {
   "cell_type": "markdown",
   "metadata": {},
   "source": [
    "#### Cols may be suitable to drop\n",
    "- location\n",
    "- country\n",
    "- sourcename\n",
    "- sourcetype\n",
    "- average_period\n",
    "- mobile\n",
    "\n",
    "Cols with unique values, which can just be summarized into a description. "
   ]
  },
  {
   "cell_type": "code",
   "execution_count": 74,
   "metadata": {},
   "outputs": [
    {
     "data": {
      "text/plain": [
       "Index(['date', 'parameter', 'location', 'value', 'unit', 'city', 'attribution',\n",
       "       'averagingperiod', 'coordinates', 'country', 'sourcename', 'sourcetype',\n",
       "       'mobile'],\n",
       "      dtype='object')"
      ]
     },
     "execution_count": 74,
     "metadata": {},
     "output_type": "execute_result"
    }
   ],
   "source": [
    "# retrieve cols names\n",
    "raw_data.columns"
   ]
  },
  {
   "cell_type": "code",
   "execution_count": 75,
   "metadata": {
    "scrolled": true
   },
   "outputs": [
    {
     "name": "stdout",
     "output_type": "stream",
     "text": [
      "city ['Shanghai']\n",
      "location ['Shanghai']\n",
      "country ['CN']\n",
      "averagingperiod ['{unit=hours, value=1.0}']\n",
      "sourcename ['Shanghai']\n",
      "sourcetype ['government']\n",
      "mobile [False]\n"
     ]
    }
   ],
   "source": [
    "# check unique values in certain cols\n",
    "cols = ['city','location','country','averagingperiod','sourcename', 'sourcetype',\n",
    "       'mobile']\n",
    "for col in cols:\n",
    "    print(col, raw_data[col].unique())"
   ]
  },
  {
   "cell_type": "code",
   "execution_count": 76,
   "metadata": {},
   "outputs": [],
   "source": [
    "# drop above cols (as a result of uniqueness)\n",
    "raw_data.drop(columns=cols, inplace=True)"
   ]
  },
  {
   "cell_type": "code",
   "execution_count": 77,
   "metadata": {},
   "outputs": [
    {
     "data": {
      "text/html": [
       "<div>\n",
       "<style scoped>\n",
       "    .dataframe tbody tr th:only-of-type {\n",
       "        vertical-align: middle;\n",
       "    }\n",
       "\n",
       "    .dataframe tbody tr th {\n",
       "        vertical-align: top;\n",
       "    }\n",
       "\n",
       "    .dataframe thead th {\n",
       "        text-align: right;\n",
       "    }\n",
       "</style>\n",
       "<table border=\"1\" class=\"dataframe\">\n",
       "  <thead>\n",
       "    <tr style=\"text-align: right;\">\n",
       "      <th></th>\n",
       "      <th>date</th>\n",
       "      <th>parameter</th>\n",
       "      <th>value</th>\n",
       "      <th>unit</th>\n",
       "      <th>attribution</th>\n",
       "      <th>coordinates</th>\n",
       "    </tr>\n",
       "  </thead>\n",
       "  <tbody>\n",
       "    <tr>\n",
       "      <th>0</th>\n",
       "      <td>{utc=2018-04-20T11:00:00.000Z, local=2018-04-2...</td>\n",
       "      <td>pm25</td>\n",
       "      <td>28.0</td>\n",
       "      <td>µg/m³</td>\n",
       "      <td>[{name=StateAir.net, url=http://www.stateair.n...</td>\n",
       "      <td>{latitude=31.21, longitude=121.44}</td>\n",
       "    </tr>\n",
       "    <tr>\n",
       "      <th>1</th>\n",
       "      <td>{utc=2018-04-20T01:00:00.000Z, local=2018-04-2...</td>\n",
       "      <td>pm25</td>\n",
       "      <td>29.0</td>\n",
       "      <td>µg/m³</td>\n",
       "      <td>[{name=StateAir.net, url=http://www.stateair.n...</td>\n",
       "      <td>{latitude=31.21, longitude=121.44}</td>\n",
       "    </tr>\n",
       "  </tbody>\n",
       "</table>\n",
       "</div>"
      ],
      "text/plain": [
       "                                                date parameter  value   unit  \\\n",
       "0  {utc=2018-04-20T11:00:00.000Z, local=2018-04-2...      pm25   28.0  µg/m³   \n",
       "1  {utc=2018-04-20T01:00:00.000Z, local=2018-04-2...      pm25   29.0  µg/m³   \n",
       "\n",
       "                                         attribution  \\\n",
       "0  [{name=StateAir.net, url=http://www.stateair.n...   \n",
       "1  [{name=StateAir.net, url=http://www.stateair.n...   \n",
       "\n",
       "                          coordinates  \n",
       "0  {latitude=31.21, longitude=121.44}  \n",
       "1  {latitude=31.21, longitude=121.44}  "
      ]
     },
     "execution_count": 77,
     "metadata": {},
     "output_type": "execute_result"
    }
   ],
   "source": [
    "# Check \n",
    "raw_data.head(2)"
   ]
  },
  {
   "cell_type": "markdown",
   "metadata": {},
   "source": [
    "#### Col 'date'\n",
    "- Year\n",
    "- Month\n",
    "- Day\n",
    "- Hour"
   ]
  },
  {
   "cell_type": "code",
   "execution_count": 78,
   "metadata": {},
   "outputs": [
    {
     "data": {
      "text/plain": [
       "'{utc=2018-04-20T11:00:00.000Z, local=2018-04-20T19:00:00+08:00}'"
      ]
     },
     "execution_count": 78,
     "metadata": {},
     "output_type": "execute_result"
    }
   ],
   "source": [
    "# Peek\n",
    "raw_data.date[0]"
   ]
  },
  {
   "cell_type": "markdown",
   "metadata": {},
   "source": [
    "utc: universal coordinated time"
   ]
  },
  {
   "cell_type": "markdown",
   "metadata": {},
   "source": [
    "\n",
    "- **How to extract year, month, day, time from utc above?**\n",
    "- **Is the date col  in form of time stamp or str?**"
   ]
  },
  {
   "cell_type": "code",
   "execution_count": 79,
   "metadata": {},
   "outputs": [
    {
     "data": {
      "text/plain": [
       "'{utc=2018-04-20T11:00:00.000Z'"
      ]
     },
     "execution_count": 79,
     "metadata": {},
     "output_type": "execute_result"
    }
   ],
   "source": [
    "# Only keep utc time \n",
    "raw_data['date'] = raw_data['date'].apply(lambda x:x.split(sep=',')[0])\n",
    "raw_data['date'][0]"
   ]
  },
  {
   "cell_type": "code",
   "execution_count": 80,
   "metadata": {},
   "outputs": [
    {
     "data": {
      "text/plain": [
       "Timestamp('2018-04-20 11:00:00')"
      ]
     },
     "execution_count": 80,
     "metadata": {},
     "output_type": "execute_result"
    }
   ],
   "source": [
    "# covert date str to datetime object (datetime module)\n",
    "import datetime\n",
    "fmt = '{utc=%Y-%m-%dT%H:%M:%S.000Z'\n",
    "raw_data['date'] = raw_data['date'].apply(lambda x:datetime.datetime.strptime(x,fmt))\n",
    "raw_data['date'][0]"
   ]
  },
  {
   "cell_type": "code",
   "execution_count": 81,
   "metadata": {},
   "outputs": [
    {
     "data": {
      "text/html": [
       "<div>\n",
       "<style scoped>\n",
       "    .dataframe tbody tr th:only-of-type {\n",
       "        vertical-align: middle;\n",
       "    }\n",
       "\n",
       "    .dataframe tbody tr th {\n",
       "        vertical-align: top;\n",
       "    }\n",
       "\n",
       "    .dataframe thead th {\n",
       "        text-align: right;\n",
       "    }\n",
       "</style>\n",
       "<table border=\"1\" class=\"dataframe\">\n",
       "  <thead>\n",
       "    <tr style=\"text-align: right;\">\n",
       "      <th></th>\n",
       "      <th>date</th>\n",
       "      <th>parameter</th>\n",
       "      <th>value</th>\n",
       "      <th>unit</th>\n",
       "      <th>attribution</th>\n",
       "      <th>coordinates</th>\n",
       "      <th>year</th>\n",
       "      <th>month</th>\n",
       "      <th>day</th>\n",
       "      <th>hour</th>\n",
       "    </tr>\n",
       "  </thead>\n",
       "  <tbody>\n",
       "    <tr>\n",
       "      <th>8067</th>\n",
       "      <td>2019-04-18 06:00:00</td>\n",
       "      <td>pm25</td>\n",
       "      <td>49.0</td>\n",
       "      <td>µg/m³</td>\n",
       "      <td>[{name=StateAir.net, url=http://www.stateair.n...</td>\n",
       "      <td>{latitude=31.21, longitude=121.44}</td>\n",
       "      <td>2019</td>\n",
       "      <td>4</td>\n",
       "      <td>18</td>\n",
       "      <td>6</td>\n",
       "    </tr>\n",
       "    <tr>\n",
       "      <th>8068</th>\n",
       "      <td>2019-02-05 22:00:00</td>\n",
       "      <td>pm25</td>\n",
       "      <td>47.0</td>\n",
       "      <td>µg/m³</td>\n",
       "      <td>[{name=StateAir.net, url=http://www.stateair.n...</td>\n",
       "      <td>{latitude=31.21, longitude=121.44}</td>\n",
       "      <td>2019</td>\n",
       "      <td>2</td>\n",
       "      <td>5</td>\n",
       "      <td>22</td>\n",
       "    </tr>\n",
       "    <tr>\n",
       "      <th>8069</th>\n",
       "      <td>2019-04-18 21:00:00</td>\n",
       "      <td>pm25</td>\n",
       "      <td>55.0</td>\n",
       "      <td>µg/m³</td>\n",
       "      <td>[{name=StateAir.net, url=http://www.stateair.n...</td>\n",
       "      <td>{latitude=31.21, longitude=121.44}</td>\n",
       "      <td>2019</td>\n",
       "      <td>4</td>\n",
       "      <td>18</td>\n",
       "      <td>21</td>\n",
       "    </tr>\n",
       "    <tr>\n",
       "      <th>8070</th>\n",
       "      <td>2019-04-18 17:00:00</td>\n",
       "      <td>pm25</td>\n",
       "      <td>57.0</td>\n",
       "      <td>µg/m³</td>\n",
       "      <td>[{name=StateAir.net, url=http://www.stateair.n...</td>\n",
       "      <td>{latitude=31.21, longitude=121.44}</td>\n",
       "      <td>2019</td>\n",
       "      <td>4</td>\n",
       "      <td>18</td>\n",
       "      <td>17</td>\n",
       "    </tr>\n",
       "    <tr>\n",
       "      <th>8071</th>\n",
       "      <td>2019-04-06 20:00:00</td>\n",
       "      <td>pm25</td>\n",
       "      <td>85.0</td>\n",
       "      <td>µg/m³</td>\n",
       "      <td>[{name=StateAir.net, url=http://www.stateair.n...</td>\n",
       "      <td>{latitude=31.21, longitude=121.44}</td>\n",
       "      <td>2019</td>\n",
       "      <td>4</td>\n",
       "      <td>6</td>\n",
       "      <td>20</td>\n",
       "    </tr>\n",
       "  </tbody>\n",
       "</table>\n",
       "</div>"
      ],
      "text/plain": [
       "                    date parameter  value   unit  \\\n",
       "8067 2019-04-18 06:00:00      pm25   49.0  µg/m³   \n",
       "8068 2019-02-05 22:00:00      pm25   47.0  µg/m³   \n",
       "8069 2019-04-18 21:00:00      pm25   55.0  µg/m³   \n",
       "8070 2019-04-18 17:00:00      pm25   57.0  µg/m³   \n",
       "8071 2019-04-06 20:00:00      pm25   85.0  µg/m³   \n",
       "\n",
       "                                            attribution  \\\n",
       "8067  [{name=StateAir.net, url=http://www.stateair.n...   \n",
       "8068  [{name=StateAir.net, url=http://www.stateair.n...   \n",
       "8069  [{name=StateAir.net, url=http://www.stateair.n...   \n",
       "8070  [{name=StateAir.net, url=http://www.stateair.n...   \n",
       "8071  [{name=StateAir.net, url=http://www.stateair.n...   \n",
       "\n",
       "                             coordinates  year  month  day  hour  \n",
       "8067  {latitude=31.21, longitude=121.44}  2019      4   18     6  \n",
       "8068  {latitude=31.21, longitude=121.44}  2019      2    5    22  \n",
       "8069  {latitude=31.21, longitude=121.44}  2019      4   18    21  \n",
       "8070  {latitude=31.21, longitude=121.44}  2019      4   18    17  \n",
       "8071  {latitude=31.21, longitude=121.44}  2019      4    6    20  "
      ]
     },
     "execution_count": 81,
     "metadata": {},
     "output_type": "execute_result"
    }
   ],
   "source": [
    "# create new cols ['year','month','day','hour']\n",
    "raw_data['year'] = raw_data['date'].apply(lambda x:x.year)\n",
    "raw_data['month'] = raw_data['date'].apply(lambda x:x.month)\n",
    "raw_data['day'] = raw_data['date'].apply(lambda x:x.day)\n",
    "raw_data['hour'] = raw_data['date'].apply(lambda x:x.hour)\n",
    "raw_data.tail()"
   ]
  },
  {
   "cell_type": "markdown",
   "metadata": {},
   "source": [
    "#### col 'parameters'\n",
    "- pollutant types"
   ]
  },
  {
   "cell_type": "code",
   "execution_count": 82,
   "metadata": {},
   "outputs": [],
   "source": [
    "# TODO"
   ]
  },
  {
   "cell_type": "markdown",
   "metadata": {},
   "source": [
    "#### col 'attribution'\n",
    "- sensor station locations"
   ]
  },
  {
   "cell_type": "code",
   "execution_count": 83,
   "metadata": {},
   "outputs": [],
   "source": [
    "# TODO"
   ]
  },
  {
   "cell_type": "markdown",
   "metadata": {},
   "source": [
    "#### col 'coordinates'\n",
    "- geographic infö (regional effect) "
   ]
  },
  {
   "cell_type": "code",
   "execution_count": 84,
   "metadata": {},
   "outputs": [],
   "source": [
    "# TODO"
   ]
  },
  {
   "cell_type": "markdown",
   "metadata": {},
   "source": [
    "### Deal with Wrong Values (col 'value' <=0)"
   ]
  },
  {
   "cell_type": "code",
   "execution_count": 85,
   "metadata": {},
   "outputs": [
    {
     "data": {
      "text/html": [
       "<div>\n",
       "<style scoped>\n",
       "    .dataframe tbody tr th:only-of-type {\n",
       "        vertical-align: middle;\n",
       "    }\n",
       "\n",
       "    .dataframe tbody tr th {\n",
       "        vertical-align: top;\n",
       "    }\n",
       "\n",
       "    .dataframe thead th {\n",
       "        text-align: right;\n",
       "    }\n",
       "</style>\n",
       "<table border=\"1\" class=\"dataframe\">\n",
       "  <thead>\n",
       "    <tr style=\"text-align: right;\">\n",
       "      <th></th>\n",
       "      <th>date</th>\n",
       "      <th>parameter</th>\n",
       "      <th>value</th>\n",
       "      <th>unit</th>\n",
       "      <th>attribution</th>\n",
       "      <th>coordinates</th>\n",
       "      <th>year</th>\n",
       "      <th>month</th>\n",
       "      <th>day</th>\n",
       "      <th>hour</th>\n",
       "    </tr>\n",
       "  </thead>\n",
       "  <tbody>\n",
       "    <tr>\n",
       "      <th>460</th>\n",
       "      <td>2018-06-06 00:00:00</td>\n",
       "      <td>pm25</td>\n",
       "      <td>-9999.0</td>\n",
       "      <td>µg/m³</td>\n",
       "      <td>[{name=StateAir.net, url=http://www.stateair.n...</td>\n",
       "      <td>{latitude=31.21, longitude=121.44}</td>\n",
       "      <td>2018</td>\n",
       "      <td>6</td>\n",
       "      <td>6</td>\n",
       "      <td>0</td>\n",
       "    </tr>\n",
       "    <tr>\n",
       "      <th>5954</th>\n",
       "      <td>2019-01-11 05:00:00</td>\n",
       "      <td>pm25</td>\n",
       "      <td>-9999.0</td>\n",
       "      <td>µg/m³</td>\n",
       "      <td>[{name=StateAir.net, url=http://www.stateair.n...</td>\n",
       "      <td>{latitude=31.21, longitude=121.44}</td>\n",
       "      <td>2019</td>\n",
       "      <td>1</td>\n",
       "      <td>11</td>\n",
       "      <td>5</td>\n",
       "    </tr>\n",
       "  </tbody>\n",
       "</table>\n",
       "</div>"
      ],
      "text/plain": [
       "                    date parameter   value   unit  \\\n",
       "460  2018-06-06 00:00:00      pm25 -9999.0  µg/m³   \n",
       "5954 2019-01-11 05:00:00      pm25 -9999.0  µg/m³   \n",
       "\n",
       "                                            attribution  \\\n",
       "460   [{name=StateAir.net, url=http://www.stateair.n...   \n",
       "5954  [{name=StateAir.net, url=http://www.stateair.n...   \n",
       "\n",
       "                             coordinates  year  month  day  hour  \n",
       "460   {latitude=31.21, longitude=121.44}  2018      6    6     0  \n",
       "5954  {latitude=31.21, longitude=121.44}  2019      1   11     5  "
      ]
     },
     "execution_count": 85,
     "metadata": {},
     "output_type": "execute_result"
    }
   ],
   "source": [
    "# Check\n",
    "mask = raw_data['value']<=0 \n",
    "raw_data[mask]"
   ]
  },
  {
   "cell_type": "code",
   "execution_count": 86,
   "metadata": {},
   "outputs": [],
   "source": [
    "# Drop \n",
    "raw_data.drop(index=raw_data[mask].index,inplace=True)"
   ]
  },
  {
   "cell_type": "code",
   "execution_count": 87,
   "metadata": {},
   "outputs": [
    {
     "data": {
      "text/plain": [
       "(8070, 10)"
      ]
     },
     "execution_count": 87,
     "metadata": {},
     "output_type": "execute_result"
    }
   ],
   "source": [
    "raw_data.shape"
   ]
  },
  {
   "cell_type": "markdown",
   "metadata": {},
   "source": [
    "## Data Understanding / Visualization "
   ]
  },
  {
   "cell_type": "code",
   "execution_count": 88,
   "metadata": {
    "scrolled": true
   },
   "outputs": [
    {
     "data": {
      "text/html": [
       "<div>\n",
       "<style scoped>\n",
       "    .dataframe tbody tr th:only-of-type {\n",
       "        vertical-align: middle;\n",
       "    }\n",
       "\n",
       "    .dataframe tbody tr th {\n",
       "        vertical-align: top;\n",
       "    }\n",
       "\n",
       "    .dataframe thead th {\n",
       "        text-align: right;\n",
       "    }\n",
       "</style>\n",
       "<table border=\"1\" class=\"dataframe\">\n",
       "  <thead>\n",
       "    <tr style=\"text-align: right;\">\n",
       "      <th></th>\n",
       "      <th>value</th>\n",
       "      <th>year</th>\n",
       "      <th>month</th>\n",
       "      <th>day</th>\n",
       "      <th>hour</th>\n",
       "    </tr>\n",
       "  </thead>\n",
       "  <tbody>\n",
       "    <tr>\n",
       "      <th>count</th>\n",
       "      <td>8070.000000</td>\n",
       "      <td>8070.000000</td>\n",
       "      <td>8070.000000</td>\n",
       "      <td>8070.000000</td>\n",
       "      <td>8070.000000</td>\n",
       "    </tr>\n",
       "    <tr>\n",
       "      <th>mean</th>\n",
       "      <td>55.006568</td>\n",
       "      <td>2018.317968</td>\n",
       "      <td>6.474102</td>\n",
       "      <td>15.827633</td>\n",
       "      <td>11.490087</td>\n",
       "    </tr>\n",
       "    <tr>\n",
       "      <th>std</th>\n",
       "      <td>123.270582</td>\n",
       "      <td>0.465716</td>\n",
       "      <td>3.497181</td>\n",
       "      <td>8.828078</td>\n",
       "      <td>6.929193</td>\n",
       "    </tr>\n",
       "    <tr>\n",
       "      <th>min</th>\n",
       "      <td>4.000000</td>\n",
       "      <td>2018.000000</td>\n",
       "      <td>1.000000</td>\n",
       "      <td>1.000000</td>\n",
       "      <td>0.000000</td>\n",
       "    </tr>\n",
       "    <tr>\n",
       "      <th>25%</th>\n",
       "      <td>21.000000</td>\n",
       "      <td>2018.000000</td>\n",
       "      <td>3.000000</td>\n",
       "      <td>8.000000</td>\n",
       "      <td>5.000000</td>\n",
       "    </tr>\n",
       "    <tr>\n",
       "      <th>50%</th>\n",
       "      <td>31.000000</td>\n",
       "      <td>2018.000000</td>\n",
       "      <td>7.000000</td>\n",
       "      <td>16.000000</td>\n",
       "      <td>12.000000</td>\n",
       "    </tr>\n",
       "    <tr>\n",
       "      <th>75%</th>\n",
       "      <td>50.000000</td>\n",
       "      <td>2019.000000</td>\n",
       "      <td>10.000000</td>\n",
       "      <td>23.000000</td>\n",
       "      <td>18.000000</td>\n",
       "    </tr>\n",
       "    <tr>\n",
       "      <th>max</th>\n",
       "      <td>985.000000</td>\n",
       "      <td>2019.000000</td>\n",
       "      <td>12.000000</td>\n",
       "      <td>31.000000</td>\n",
       "      <td>23.000000</td>\n",
       "    </tr>\n",
       "  </tbody>\n",
       "</table>\n",
       "</div>"
      ],
      "text/plain": [
       "             value         year        month          day         hour\n",
       "count  8070.000000  8070.000000  8070.000000  8070.000000  8070.000000\n",
       "mean     55.006568  2018.317968     6.474102    15.827633    11.490087\n",
       "std     123.270582     0.465716     3.497181     8.828078     6.929193\n",
       "min       4.000000  2018.000000     1.000000     1.000000     0.000000\n",
       "25%      21.000000  2018.000000     3.000000     8.000000     5.000000\n",
       "50%      31.000000  2018.000000     7.000000    16.000000    12.000000\n",
       "75%      50.000000  2019.000000    10.000000    23.000000    18.000000\n",
       "max     985.000000  2019.000000    12.000000    31.000000    23.000000"
      ]
     },
     "execution_count": 88,
     "metadata": {},
     "output_type": "execute_result"
    }
   ],
   "source": [
    "raw_data.describe()"
   ]
  },
  {
   "cell_type": "markdown",
   "metadata": {},
   "source": [
    "## Q: "
   ]
  },
  {
   "cell_type": "markdown",
   "metadata": {},
   "source": [
    "### What is an Avg Value of types of pollutants by hours of a Day?"
   ]
  },
  {
   "cell_type": "code",
   "execution_count": 89,
   "metadata": {
    "scrolled": true
   },
   "outputs": [
    {
     "data": {
      "text/html": [
       "<div>\n",
       "<style scoped>\n",
       "    .dataframe tbody tr th:only-of-type {\n",
       "        vertical-align: middle;\n",
       "    }\n",
       "\n",
       "    .dataframe tbody tr th {\n",
       "        vertical-align: top;\n",
       "    }\n",
       "\n",
       "    .dataframe thead th {\n",
       "        text-align: right;\n",
       "    }\n",
       "</style>\n",
       "<table border=\"1\" class=\"dataframe\">\n",
       "  <thead>\n",
       "    <tr style=\"text-align: right;\">\n",
       "      <th></th>\n",
       "      <th>hour</th>\n",
       "      <th>value</th>\n",
       "      <th>year</th>\n",
       "      <th>month</th>\n",
       "      <th>day</th>\n",
       "    </tr>\n",
       "  </thead>\n",
       "  <tbody>\n",
       "    <tr>\n",
       "      <th>0</th>\n",
       "      <td>0</td>\n",
       "      <td>57.067449</td>\n",
       "      <td>2018.316716</td>\n",
       "      <td>6.513196</td>\n",
       "      <td>15.809384</td>\n",
       "    </tr>\n",
       "    <tr>\n",
       "      <th>1</th>\n",
       "      <td>1</td>\n",
       "      <td>54.618076</td>\n",
       "      <td>2018.314869</td>\n",
       "      <td>6.492711</td>\n",
       "      <td>15.862974</td>\n",
       "    </tr>\n",
       "    <tr>\n",
       "      <th>2</th>\n",
       "      <td>2</td>\n",
       "      <td>49.438806</td>\n",
       "      <td>2018.325373</td>\n",
       "      <td>6.504478</td>\n",
       "      <td>15.859701</td>\n",
       "    </tr>\n",
       "    <tr>\n",
       "      <th>3</th>\n",
       "      <td>3</td>\n",
       "      <td>65.291545</td>\n",
       "      <td>2018.317784</td>\n",
       "      <td>6.446064</td>\n",
       "      <td>15.935860</td>\n",
       "    </tr>\n",
       "    <tr>\n",
       "      <th>4</th>\n",
       "      <td>4</td>\n",
       "      <td>70.216216</td>\n",
       "      <td>2018.321321</td>\n",
       "      <td>6.462462</td>\n",
       "      <td>15.681682</td>\n",
       "    </tr>\n",
       "  </tbody>\n",
       "</table>\n",
       "</div>"
      ],
      "text/plain": [
       "   hour      value         year     month        day\n",
       "0     0  57.067449  2018.316716  6.513196  15.809384\n",
       "1     1  54.618076  2018.314869  6.492711  15.862974\n",
       "2     2  49.438806  2018.325373  6.504478  15.859701\n",
       "3     3  65.291545  2018.317784  6.446064  15.935860\n",
       "4     4  70.216216  2018.321321  6.462462  15.681682"
      ]
     },
     "execution_count": 89,
     "metadata": {},
     "output_type": "execute_result"
    }
   ],
   "source": [
    "# Group by pollutants(only have pm2.5, wierd)and hours of day \n",
    "# Get avg. value for each hour \n",
    "x_label = list(np.sort(raw_data['hour'].unique()))\n",
    "hour_group_mean = raw_data.groupby(['hour']).mean().reset_index()\n",
    "hour_group_mean.head()"
   ]
  },
  {
   "cell_type": "code",
   "execution_count": 96,
   "metadata": {
    "scrolled": true
   },
   "outputs": [
    {
     "data": {
      "image/png": "[encoded data removed]",
      "text/plain": [
       "<matplotlib.figure.Figure at 0x1a0adc0748>"
      ]
     },
     "metadata": {},
     "output_type": "display_data"
    }
   ],
   "source": [
    "hour_group_mean.plot(kind='scatter',\n",
    "                     figsize =(12,6),\n",
    "                     fontsize =12,\n",
    "                     x='hour',\n",
    "                     y='value',\n",
    "                     title='average pm2.5 value by hour (Shanghai 2018-2019)'\n",
    "                    )\n",
    "plt.xticks(np.arange(min(x_label), max(x_label)+1, 1.0))\n",
    "plt.savefig('hour_mean.png')\n",
    "plt.show()"
   ]
  },
  {
   "cell_type": "code",
   "execution_count": 97,
   "metadata": {},
   "outputs": [
    {
     "data": {
      "image/png": "[encoded data removed]",
      "text/plain": [
       "<matplotlib.figure.Figure at 0x1a0added30>"
      ]
     },
     "metadata": {},
     "output_type": "display_data"
    }
   ],
   "source": [
    "fig, ax = plt.subplots(figsize=(10,8))\n",
    "raw_data.boxplot(column=['value'], by='hour', ax=ax)\n",
    "plt.savefig('hour_boxplot.png')\n",
    "plt.show()"
   ]
  },
  {
   "cell_type": "code",
   "execution_count": 92,
   "metadata": {},
   "outputs": [],
   "source": [
    "# visulize \n",
    "# Q: How do box-plot after group by hours and plot out vs. hours? "
   ]
  },
  {
   "cell_type": "code",
   "execution_count": 93,
   "metadata": {
    "scrolled": true
   },
   "outputs": [
    {
     "data": {
      "text/plain": [
       "[0,\n",
       " 1,\n",
       " 2,\n",
       " 3,\n",
       " 4,\n",
       " 5,\n",
       " 6,\n",
       " 7,\n",
       " 8,\n",
       " 9,\n",
       " 10,\n",
       " 11,\n",
       " 12,\n",
       " 13,\n",
       " 14,\n",
       " 15,\n",
       " 16,\n",
       " 17,\n",
       " 18,\n",
       " 19,\n",
       " 20,\n",
       " 21,\n",
       " 22,\n",
       " 23]"
      ]
     },
     "execution_count": 93,
     "metadata": {},
     "output_type": "execute_result"
    }
   ],
   "source": [
    "list(np.sort(raw_data['hour'].unique()))\n"
   ]
  },
  {
   "cell_type": "code",
   "execution_count": 94,
   "metadata": {},
   "outputs": [
    {
     "data": {
      "text/plain": [
       "array(['pm25'], dtype=object)"
      ]
     },
     "execution_count": 94,
     "metadata": {},
     "output_type": "execute_result"
    }
   ],
   "source": [
    "raw_data['parameter'].unique()"
   ]
  },
  {
   "cell_type": "code",
   "execution_count": null,
   "metadata": {},
   "outputs": [],
   "source": []
  }
 ],
 "metadata": {
  "kernelspec": {
   "display_name": "Python 3",
   "language": "python",
   "name": "python3"
  }
 },
 "nbformat": 4,
 "nbformat_minor": 2
}
